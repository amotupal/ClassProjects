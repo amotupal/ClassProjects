{
 "cells": [
  {
   "cell_type": "code",
   "execution_count": 2,
   "metadata": {
    "collapsed": false
   },
   "outputs": [],
   "source": [
    "from test_script import dataset_generator"
   ]
  },
  {
   "cell_type": "code",
   "execution_count": 10,
   "metadata": {
    "collapsed": false
   },
   "outputs": [
    {
     "data": {
      "text/plain": [
       "array([[ 0.32801682,  0.05919853,  0.89080204, ...,  0.52037673,\n",
       "         0.05553   ,  0.42763642],\n",
       "       [ 0.33257255,  0.07580877,  0.05455852, ...,  0.54838768,\n",
       "         0.70246611,  0.33102321],\n",
       "       [ 0.32785189,  0.5140517 ,  0.74405558, ...,  0.86165309,\n",
       "         0.18800257,  0.51142769],\n",
       "       ..., \n",
       "       [ 0.03287521,  0.33866752,  0.1637783 , ...,  0.63367139,\n",
       "         0.04022594,  0.47223862],\n",
       "       [ 0.58536214,  0.89677162,  0.16772926, ...,  0.27840647,\n",
       "         0.45042692,  0.37941703],\n",
       "       [ 0.21058771,  0.29072094,  0.91261392, ...,  0.40364405,\n",
       "         0.7657294 ,  0.86596756]])"
      ]
     },
     "execution_count": 10,
     "metadata": {},
     "output_type": "execute_result"
    }
   ],
   "source": [
    "# dg = dataset_generator()\n",
    "data_train = dg.query_data(samples = 5000)\n",
    "data_train[0]"
   ]
  },
  {
   "cell_type": "code",
   "execution_count": null,
   "metadata": {
    "collapsed": true
   },
   "outputs": [],
   "source": [
    "#Appending 1 to the training data for bias term\n",
    "data_train[0] = data_train[0]+"
   ]
  }
 ],
 "metadata": {
  "kernelspec": {
   "display_name": "Python [conda root]",
   "language": "python",
   "name": "conda-root-py"
  },
  "language_info": {
   "codemirror_mode": {
    "name": "ipython",
    "version": 3
   },
   "file_extension": ".py",
   "mimetype": "text/x-python",
   "name": "python",
   "nbconvert_exporter": "python",
   "pygments_lexer": "ipython3",
   "version": "3.5.2"
  }
 },
 "nbformat": 4,
 "nbformat_minor": 2
}
